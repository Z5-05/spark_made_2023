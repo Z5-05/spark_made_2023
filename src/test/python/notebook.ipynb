{
 "cells": [
  {
   "cell_type": "code",
   "execution_count": 80,
   "metadata": {},
   "outputs": [],
   "source": [
    "import os\n",
    "import pandas as pd\n",
    "from sklearn.linear_model import LogisticRegression\n",
    "from sklearn.metrics import roc_auc_score"
   ]
  },
  {
   "attachments": {},
   "cell_type": "markdown",
   "metadata": {},
   "source": [
    "### Noisy dataset:"
   ]
  },
  {
   "cell_type": "code",
   "execution_count": 81,
   "metadata": {},
   "outputs": [],
   "source": [
    "df = pd.read_csv(\"/home/ilya/MADE/spark_made_2023/src/test/data/dataset_noisy.csv\")\n",
    "\n",
    "X = df[['X1', 'X2', 'X3', 'X4']].values\n",
    "y = df['label'].values"
   ]
  },
  {
   "cell_type": "code",
   "execution_count": 82,
   "metadata": {},
   "outputs": [],
   "source": [
    "clf = LogisticRegression(max_iter=500).fit(X, y)\n",
    "y_pred = clf.predict_proba(X)[:, 1]"
   ]
  },
  {
   "cell_type": "code",
   "execution_count": 83,
   "metadata": {},
   "outputs": [
    {
     "name": "stdout",
     "output_type": "stream",
     "text": [
      "ROC: 0.9541439999999999\n",
      "Weights: [[ 1.63209351 -0.7608072   0.12738588 -1.24013411]]\n",
      "Bias: [0.11453495]\n"
     ]
    }
   ],
   "source": [
    "print(f\"ROC: {roc_auc_score(y, y_pred)}\")\n",
    "print(f\"Weights: {clf.coef_}\")\n",
    "print(f\"Bias: {clf.intercept_}\")\n"
   ]
  },
  {
   "attachments": {},
   "cell_type": "markdown",
   "metadata": {},
   "source": [
    "### Blobs dataset:"
   ]
  },
  {
   "cell_type": "code",
   "execution_count": 84,
   "metadata": {},
   "outputs": [],
   "source": [
    "df = pd.read_csv(\"/home/ilya/MADE/spark_made_2023/src/test/data/dataset_clear.csv\")\n",
    "\n",
    "X = df[['X1', 'X2', 'X3', 'X4']].values\n",
    "y = df['label'].values"
   ]
  },
  {
   "cell_type": "code",
   "execution_count": 85,
   "metadata": {},
   "outputs": [],
   "source": [
    "clf = LogisticRegression(max_iter=500).fit(X, y)\n",
    "y_pred = clf.predict_proba(X)[:, 1]"
   ]
  },
  {
   "cell_type": "code",
   "execution_count": 86,
   "metadata": {},
   "outputs": [
    {
     "name": "stdout",
     "output_type": "stream",
     "text": [
      "ROC: 1.0\n",
      "Weights: [[ 0.1247883  -0.39241986 -0.19301087 -0.60742174]]\n",
      "Bias: [0.02300168]\n"
     ]
    }
   ],
   "source": [
    "print(f\"ROC: {roc_auc_score(y, y_pred)}\")\n",
    "print(f\"Weights: {clf.coef_}\")\n",
    "print(f\"Bias: {clf.intercept_}\")"
   ]
  },
  {
   "cell_type": "code",
   "execution_count": null,
   "metadata": {},
   "outputs": [],
   "source": []
  }
 ],
 "metadata": {
  "kernelspec": {
   "display_name": "my_env",
   "language": "python",
   "name": "python3"
  },
  "language_info": {
   "codemirror_mode": {
    "name": "ipython",
    "version": 3
   },
   "file_extension": ".py",
   "mimetype": "text/x-python",
   "name": "python",
   "nbconvert_exporter": "python",
   "pygments_lexer": "ipython3",
   "version": "3.8.10"
  },
  "orig_nbformat": 4
 },
 "nbformat": 4,
 "nbformat_minor": 2
}
